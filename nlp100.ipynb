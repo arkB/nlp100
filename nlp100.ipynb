{
  "nbformat": 4,
  "nbformat_minor": 0,
  "metadata": {
    "colab": {
      "name": "nlp100.ipynb",
      "version": "0.3.2",
      "provenance": [],
      "collapsed_sections": [],
      "include_colab_link": true
    },
    "kernelspec": {
      "name": "python3",
      "display_name": "Python 3"
    }
  },
  "cells": [
    {
      "cell_type": "markdown",
      "metadata": {
        "id": "view-in-github",
        "colab_type": "text"
      },
      "source": [
        "<a href=\"https://colab.research.google.com/github/arkB/nlp100/blob/master/nlp100.ipynb\" target=\"_parent\"><img src=\"https://colab.research.google.com/assets/colab-badge.svg\" alt=\"Open In Colab\"/></a>"
      ]
    },
    {
      "cell_type": "markdown",
      "metadata": {
        "id": "OpQcemUfbgLh",
        "colab_type": "text"
      },
      "source": [
        "# 第1章: 準備運動"
      ]
    },
    {
      "cell_type": "markdown",
      "metadata": {
        "id": "XPnX-DY-bt36",
        "colab_type": "text"
      },
      "source": [
        "\n",
        "## 00. 文字列の逆順¶\n",
        "文字列\"stressed\"の文字を逆に（末尾から先頭に向かって）並べた文字列を得よ"
      ]
    },
    {
      "cell_type": "code",
      "metadata": {
        "id": "YlEnAeTpbc71",
        "colab_type": "code",
        "outputId": "fc22008d-19d4-4ff6-f2ef-fdbd294bf8f5",
        "colab": {
          "base_uri": "https://localhost:8080/",
          "height": 34
        }
      },
      "source": [
        "string = \"stressed\"\n",
        "print(string[::-1])"
      ],
      "execution_count": 0,
      "outputs": [
        {
          "output_type": "stream",
          "text": [
            "desserts\n"
          ],
          "name": "stdout"
        }
      ]
    },
    {
      "cell_type": "markdown",
      "metadata": {
        "id": "BpwSRlz-caSY",
        "colab_type": "text"
      },
      "source": [
        "## 01. 「パタトクカシーー」\n",
        "「パタトクカシーー」という文字列の1,3,5,7文字目を取り出して連結した文字列を得よ．"
      ]
    },
    {
      "cell_type": "code",
      "metadata": {
        "id": "cWFWWVNSb2In",
        "colab_type": "code",
        "outputId": "9685633f-b811-48f8-c64b-1061a0a14266",
        "colab": {
          "base_uri": "https://localhost:8080/",
          "height": 34
        }
      },
      "source": [
        "string = \"パタトクカシーー\"\n",
        "print(string[::2])"
      ],
      "execution_count": 0,
      "outputs": [
        {
          "output_type": "stream",
          "text": [
            "パトカー\n"
          ],
          "name": "stdout"
        }
      ]
    },
    {
      "cell_type": "markdown",
      "metadata": {
        "id": "7deh20MBcpOy",
        "colab_type": "text"
      },
      "source": [
        "## 03. 円周率\n",
        "\"Now I need a drink, alcoholic of course, after the heavy lectures involving quantum mechanics.\"という文を単語に分解し，各単語の（アルファベットの）文字数を先頭から出現順に並べたリストを作成せよ．"
      ]
    },
    {
      "cell_type": "code",
      "metadata": {
        "id": "dXWOuQCjckgJ",
        "colab_type": "code",
        "outputId": "1a87d0a7-d7d0-4890-c930-b7f97f795def",
        "colab": {
          "base_uri": "https://localhost:8080/",
          "height": 34
        }
      },
      "source": [
        "string = 'Now I need a drink, alcoholic of course, after the heavy lectures involving quantum mechanics.'\n",
        "print([len(w.strip(',.')) for w in string.split()])"
      ],
      "execution_count": 0,
      "outputs": [
        {
          "output_type": "stream",
          "text": [
            "[3, 1, 4, 1, 5, 9, 2, 6, 5, 3, 5, 8, 9, 7, 9]\n"
          ],
          "name": "stdout"
        }
      ]
    },
    {
      "cell_type": "markdown",
      "metadata": {
        "id": "N0aPs9WAexto",
        "colab_type": "text"
      },
      "source": [
        "## 04. 元素記号\n",
        "\"Hi He Lied Because Boron Could Not Oxidize Fluorine. New Nations Might Also Sign Peace Security Clause. Arthur King Can.\"という文を単語に分解し，1, 5, 6, 7, 8, 9, 15, 16, 19番目の単語は先頭の1文字，それ以外の単語は先頭に2文字を取り出し，取り出した文字列から単語の位置（先頭から何番目の単語か）への連想配列（辞書型もしくはマップ型）を作成せよ．\n",
        "\n"
      ]
    },
    {
      "cell_type": "code",
      "metadata": {
        "id": "FEifTxGEczv6",
        "colab_type": "code",
        "outputId": "0dd727e8-ee88-410f-ee67-ad4817908cbd",
        "colab": {
          "base_uri": "https://localhost:8080/",
          "height": 357
        }
      },
      "source": [
        "string = \"Hi He Lied Because Boron Could Not Oxidize Fluorine. New Nations Might Also Sign Peace Security Clause. Arthur King Can.\"\n",
        "num_one = [1, 5, 6, 7, 8, 9, 15, 16, 19]\n",
        "{w[0:1 if i+1 in num_one else 2]:i+1 for i, w in enumerate(string.split())}"
      ],
      "execution_count": 0,
      "outputs": [
        {
          "output_type": "execute_result",
          "data": {
            "text/plain": [
              "{'Al': 13,\n",
              " 'Ar': 18,\n",
              " 'B': 5,\n",
              " 'Be': 4,\n",
              " 'C': 6,\n",
              " 'Ca': 20,\n",
              " 'Cl': 17,\n",
              " 'F': 9,\n",
              " 'H': 1,\n",
              " 'He': 2,\n",
              " 'K': 19,\n",
              " 'Li': 3,\n",
              " 'Mi': 12,\n",
              " 'N': 7,\n",
              " 'Na': 11,\n",
              " 'Ne': 10,\n",
              " 'O': 8,\n",
              " 'P': 15,\n",
              " 'S': 16,\n",
              " 'Si': 14}"
            ]
          },
          "metadata": {
            "tags": []
          },
          "execution_count": 4
        }
      ]
    },
    {
      "cell_type": "markdown",
      "metadata": {
        "id": "Umz92IOig2C6",
        "colab_type": "text"
      },
      "source": [
        "## 05. n-gram\n",
        "与えられたシーケンス（文字列やリストなど）からn-gramを作る関数を作成せよ．この関数を用い，\"I am an NLPer\"という文から単語bi-gram，文字bi-gramを得よ．"
      ]
    },
    {
      "cell_type": "code",
      "metadata": {
        "id": "ozjbkomcfvLf",
        "colab_type": "code",
        "colab": {}
      },
      "source": [
        "def make_n_gram(seq, n):\n",
        "    return [seq[i:i+n] for i in range(len(seq)-1)]"
      ],
      "execution_count": 0,
      "outputs": []
    },
    {
      "cell_type": "code",
      "metadata": {
        "id": "aEDxwVwfiQKs",
        "colab_type": "code",
        "outputId": "045bf8a7-6d2d-47c0-9942-85d703ef5a89",
        "colab": {
          "base_uri": "https://localhost:8080/",
          "height": 34
        }
      },
      "source": [
        "string = \"I am an NLPer\"\n",
        "print(make_n_gram(string.split(), 2))"
      ],
      "execution_count": 0,
      "outputs": [
        {
          "output_type": "stream",
          "text": [
            "[['I', 'am'], ['am', 'an'], ['an', 'NLPer']]\n"
          ],
          "name": "stdout"
        }
      ]
    },
    {
      "cell_type": "code",
      "metadata": {
        "id": "yxiCxkvRiJ3z",
        "colab_type": "code",
        "outputId": "acf50262-16b8-48ca-e9cd-827c8f57a67e",
        "colab": {
          "base_uri": "https://localhost:8080/",
          "height": 34
        }
      },
      "source": [
        "print(make_n_gram(string, 2))"
      ],
      "execution_count": 0,
      "outputs": [
        {
          "output_type": "stream",
          "text": [
            "['I ', ' a', 'am', 'm ', ' a', 'an', 'n ', ' N', 'NL', 'LP', 'Pe', 'er']\n"
          ],
          "name": "stdout"
        }
      ]
    },
    {
      "cell_type": "markdown",
      "metadata": {
        "id": "a672SlTWi1lT",
        "colab_type": "text"
      },
      "source": [
        "## 06. 集合\n",
        "\"paraparaparadise\"と\"paragraph\"に含まれる文字bi-gramの集合を，それぞれ, XとYとして求め，XとYの和集合，積集合，差集合を求めよ．さらに，'se'というbi-gramがXおよびYに含まれるかどうかを調べよ．"
      ]
    },
    {
      "cell_type": "code",
      "metadata": {
        "id": "N8lh3ChWi9jK",
        "colab_type": "code",
        "outputId": "538e1c7d-cc2d-40e1-a82d-466d4ae25901",
        "colab": {
          "base_uri": "https://localhost:8080/",
          "height": 51
        }
      },
      "source": [
        "strings = [\"paraparaparadise\", \"paragraph\"]\n",
        "X = make_n_gram(strings[0], 2)\n",
        "Y = make_n_gram(strings[1], 2)\n",
        "print(X)\n",
        "print(Y)"
      ],
      "execution_count": 0,
      "outputs": [
        {
          "output_type": "stream",
          "text": [
            "['pa', 'ar', 'ra', 'ap', 'pa', 'ar', 'ra', 'ap', 'pa', 'ar', 'ra', 'ad', 'di', 'is', 'se']\n",
            "['pa', 'ar', 'ra', 'ag', 'gr', 'ra', 'ap', 'ph']\n"
          ],
          "name": "stdout"
        }
      ]
    },
    {
      "cell_type": "code",
      "metadata": {
        "id": "KuxG1FCfjOES",
        "colab_type": "code",
        "outputId": "827fe3dd-baa9-4728-c2d8-c576f14e8d00",
        "colab": {
          "base_uri": "https://localhost:8080/",
          "height": 85
        }
      },
      "source": [
        "set_X = set(X)\n",
        "set_Y = set(Y)\n",
        "\n",
        "print(set_X | set_Y)\n",
        "print(set_X & set_Y)\n",
        "print(set_X - set_Y)\n",
        "print(set_Y - set_X)"
      ],
      "execution_count": 0,
      "outputs": [
        {
          "output_type": "stream",
          "text": [
            "{'di', 'pa', 'is', 'gr', 'ph', 'ad', 'ar', 'ra', 'se', 'ap', 'ag'}\n",
            "{'ap', 'ar', 'ra', 'pa'}\n",
            "{'se', 'di', 'ad', 'is'}\n",
            "{'gr', 'ph', 'ag'}\n"
          ],
          "name": "stdout"
        }
      ]
    },
    {
      "cell_type": "code",
      "metadata": {
        "id": "ir9S9UrUjZGf",
        "colab_type": "code",
        "outputId": "1d2165f4-a32f-4f08-ecae-25c3d3f1343f",
        "colab": {
          "base_uri": "https://localhost:8080/",
          "height": 34
        }
      },
      "source": [
        "print('se' in X)"
      ],
      "execution_count": 0,
      "outputs": [
        {
          "output_type": "stream",
          "text": [
            "True\n"
          ],
          "name": "stdout"
        }
      ]
    },
    {
      "cell_type": "code",
      "metadata": {
        "id": "ut4HOaSPkPp6",
        "colab_type": "code",
        "outputId": "64ce013b-0c93-4905-d778-4e3d92fce74a",
        "colab": {
          "base_uri": "https://localhost:8080/",
          "height": 34
        }
      },
      "source": [
        "print('se' in Y)"
      ],
      "execution_count": 0,
      "outputs": [
        {
          "output_type": "stream",
          "text": [
            "False\n"
          ],
          "name": "stdout"
        }
      ]
    },
    {
      "cell_type": "markdown",
      "metadata": {
        "id": "SBfRBzd_kowE",
        "colab_type": "text"
      },
      "source": [
        "## 07. テンプレートによる文生成\n",
        "引数x, y, zを受け取り「x時のyはz」という文字列を返す関数を実装せよ．さらに，x=12, y=\"気温\", z=22.4として，実行結果を確認せよ．"
      ]
    },
    {
      "cell_type": "code",
      "metadata": {
        "id": "rrBd8C5Ekjyh",
        "colab_type": "code",
        "colab": {}
      },
      "source": [
        "def generate_sentence(x, y, z):\n",
        "    return \"{}時の{}は{}\".format(x, y, z)"
      ],
      "execution_count": 0,
      "outputs": []
    },
    {
      "cell_type": "code",
      "metadata": {
        "id": "YQecER2xk6gH",
        "colab_type": "code",
        "outputId": "8d99d99e-fb86-452e-912e-4aee82370955",
        "colab": {
          "base_uri": "https://localhost:8080/",
          "height": 34
        }
      },
      "source": [
        "generate_sentence(x=12, y=\"気温\", z=22.4)"
      ],
      "execution_count": 0,
      "outputs": [
        {
          "output_type": "execute_result",
          "data": {
            "text/plain": [
              "'12時の気温は22.4'"
            ]
          },
          "metadata": {
            "tags": []
          },
          "execution_count": 13
        }
      ]
    },
    {
      "cell_type": "markdown",
      "metadata": {
        "id": "fa4gi15ElKiw",
        "colab_type": "text"
      },
      "source": [
        "## 08. 暗号文\n",
        "与えられた文字列の各文字を，以下の仕様で変換する関数cipherを実装せよ．\n",
        "\n",
        "英小文字ならば(219 - 文字コード)の文字に置換\n",
        "その他の文字はそのまま出力\n",
        "この関数を用い，英語のメッセージを暗号化・復号化せよ．\n",
        "\n"
      ]
    },
    {
      "cell_type": "code",
      "metadata": {
        "id": "pTEnyxjvl6Hv",
        "colab_type": "code",
        "colab": {}
      },
      "source": [
        "def encode(string):\n",
        "    return \"\".join(chr(219 - ord(c)) if c.islower() else c for c in string)"
      ],
      "execution_count": 0,
      "outputs": []
    },
    {
      "cell_type": "code",
      "metadata": {
        "id": "kj2na4XRlAE0",
        "colab_type": "code",
        "colab": {}
      },
      "source": [
        "# 金の貸し借りをしてはならない。金を貸せば金も友も失う。金を借りれば倹約が馬鹿らしくなる。※ハムレットより引用\n",
        "text = 'Neither a borrower nor a lender be; For loan oft loses both itself and friend, And borrowing dulls the edge of husbandry.'"
      ],
      "execution_count": 0,
      "outputs": []
    },
    {
      "cell_type": "code",
      "metadata": {
        "id": "ew38PRJQoNyb",
        "colab_type": "code",
        "outputId": "456500c1-384e-4027-de7d-4617cf30e9e1",
        "colab": {
          "base_uri": "https://localhost:8080/",
          "height": 51
        }
      },
      "source": [
        "encoded_text = encode(text)\n",
        "decoded_text = encode(encoded_text)\n",
        "print(encoded_text)\n",
        "print(decoded_text)"
      ],
      "execution_count": 0,
      "outputs": [
        {
          "output_type": "stream",
          "text": [
            "Nvrgsvi z yliildvi mli z ovmwvi yv; Fli olzm lug olhvh ylgs rghvou zmw uirvmw, Amw yliildrmt wfooh gsv vwtv lu sfhyzmwib.\n",
            "Neither a borrower nor a lender be; For loan oft loses both itself and friend, And borrowing dulls the edge of husbandry.\n"
          ],
          "name": "stdout"
        }
      ]
    },
    {
      "cell_type": "markdown",
      "metadata": {
        "id": "cpC5YgTYpD8J",
        "colab_type": "text"
      },
      "source": [
        "## 09. Typoglycemia\n",
        "スペースで区切られた単語列に対して，各単語の先頭と末尾の文字は残し，それ以外の文字の順序をランダムに並び替えるプログラムを作成せよ．ただし，長さが４以下の単語は並び替えないこととする．適当な英語の文（例えば\"I couldn't believe that I could actually understand what I was reading : the phenomenal power of the human mind .\"）を与え，その実行結果を確認せよ．\n",
        "\n"
      ]
    },
    {
      "cell_type": "code",
      "metadata": {
        "id": "yy3sGTMnoPe3",
        "colab_type": "code",
        "outputId": "b1b0911f-e86e-477c-ad0e-e5ab400c88b4",
        "colab": {
          "base_uri": "https://localhost:8080/",
          "height": 34
        }
      },
      "source": [
        "import random\n",
        "string = \"I couldn't believe that I could actually understand what I was reading : the phenomenal power of the human mind .\"\n",
        "typoglycemia_sort = lambda w: w[0] + \"\".join(random.sample(w[1:-1], len(w)-2)) + w[-1]\n",
        "print(\" \".join(map(lambda w: typoglycemia_sort(w) if len(w) > 4 else w, string.split())))"
      ],
      "execution_count": 0,
      "outputs": [
        {
          "output_type": "stream",
          "text": [
            "I c'ndulot blievee that I culod alulacty uandnretsd what I was rieadng : the pmhannoeel power of the huamn mind .\n"
          ],
          "name": "stdout"
        }
      ]
    },
    {
      "cell_type": "markdown",
      "metadata": {
        "id": "y6u3EbC6wghz",
        "colab_type": "text"
      },
      "source": [
        "# 第2章: UNIXコマンドの基礎\n",
        "hightemp.txt は，日本の最高気温の記録を「都道府県」「地点」「℃」「日」のタブ区切り形式で格納したファイルである．以下の処理を行うプログラムを作成し，hightemp.txt を入力ファイルとして実行せよ．さらに，同様の処理をUNIXコマンドでも実行し，プログラムの実行結果を確認せよ．"
      ]
    },
    {
      "cell_type": "code",
      "metadata": {
        "id": "z8pWADQywl6G",
        "colab_type": "code",
        "outputId": "3a06f17a-b0f8-4419-9024-ea8b2cc83e77",
        "colab": {
          "resources": {
            "http://localhost:8080/nbextensions/google.colab/files.js": {
              "data": "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",
              "ok": true,
              "headers": [
                [
                  "content-type",
                  "application/javascript"
                ]
              ],
              "status": 200,
              "status_text": ""
            }
          },
          "base_uri": "https://localhost:8080/",
          "height": 79
        }
      },
      "source": [
        "from google.colab import files\n",
        "uploaded = files.upload()"
      ],
      "execution_count": 1,
      "outputs": [
        {
          "output_type": "display_data",
          "data": {
            "text/html": [
              "\n",
              "     <input type=\"file\" id=\"files-86897fcd-4411-4848-94c8-3922a7077207\" name=\"files[]\" multiple disabled />\n",
              "     <output id=\"result-86897fcd-4411-4848-94c8-3922a7077207\">\n",
              "      Upload widget is only available when the cell has been executed in the\n",
              "      current browser session. Please rerun this cell to enable.\n",
              "      </output>\n",
              "      <script src=\"/nbextensions/google.colab/files.js\"></script> "
            ],
            "text/plain": [
              "<IPython.core.display.HTML object>"
            ]
          },
          "metadata": {
            "tags": []
          }
        },
        {
          "output_type": "stream",
          "text": [
            "Saving hightemp.txt to hightemp.txt\n"
          ],
          "name": "stdout"
        }
      ]
    },
    {
      "cell_type": "code",
      "metadata": {
        "id": "5VZuMmTg8x04",
        "colab_type": "code",
        "outputId": "3891f24d-87fc-4c5e-b8e8-1319a26e0237",
        "colab": {
          "base_uri": "https://localhost:8080/",
          "height": 51
        }
      },
      "source": [
        "# Python\n",
        "num_lines = sum(1 for line in open('hightemp.txt'))\n",
        "print(num_lines)\n",
        "# Unix Command\n",
        "!wc -l hightemp.txt"
      ],
      "execution_count": 0,
      "outputs": [
        {
          "output_type": "stream",
          "text": [
            "24\n",
            "24 hightemp.txt\n"
          ],
          "name": "stdout"
        }
      ]
    },
    {
      "cell_type": "markdown",
      "metadata": {
        "id": "_CC-ZPsTyCI3",
        "colab_type": "text"
      },
      "source": [
        "# 11. タブをスペースに置換\n",
        "タブ1文字につきスペース1文字に置換せよ．確認にはsedコマンド，trコマンド，もしくはexpandコマンドを用いよ．"
      ]
    },
    {
      "cell_type": "code",
      "metadata": {
        "id": "neC5GWcQx08S",
        "colab_type": "code",
        "outputId": "f384c0af-0605-43e6-807b-9c92c2163e3e",
        "colab": {
          "base_uri": "https://localhost:8080/",
          "height": 1241
        }
      },
      "source": [
        "for line in open('hightemp.txt'):\n",
        "  print(line.replace('\\t', ' '))\n",
        "!sed -e 's/\\t/ /g' hightemp.txt"
      ],
      "execution_count": 0,
      "outputs": [
        {
          "output_type": "stream",
          "text": [
            "高知県 江川崎 41 2013-08-12\n",
            "\n",
            "埼玉県 熊谷 40.9 2007-08-16\n",
            "\n",
            "岐阜県 多治見 40.9 2007-08-16\n",
            "\n",
            "山形県 山形 40.8 1933-07-25\n",
            "\n",
            "山梨県 甲府 40.7 2013-08-10\n",
            "\n",
            "和歌山県 かつらぎ 40.6 1994-08-08\n",
            "\n",
            "静岡県 天竜 40.6 1994-08-04\n",
            "\n",
            "山梨県 勝沼 40.5 2013-08-10\n",
            "\n",
            "埼玉県 越谷 40.4 2007-08-16\n",
            "\n",
            "群馬県 館林 40.3 2007-08-16\n",
            "\n",
            "群馬県 上里見 40.3 1998-07-04\n",
            "\n",
            "愛知県 愛西 40.3 1994-08-05\n",
            "\n",
            "千葉県 牛久 40.2 2004-07-20\n",
            "\n",
            "静岡県 佐久間 40.2 2001-07-24\n",
            "\n",
            "愛媛県 宇和島 40.2 1927-07-22\n",
            "\n",
            "山形県 酒田 40.1 1978-08-03\n",
            "\n",
            "岐阜県 美濃 40 2007-08-16\n",
            "\n",
            "群馬県 前橋 40 2001-07-24\n",
            "\n",
            "千葉県 茂原 39.9 2013-08-11\n",
            "\n",
            "埼玉県 鳩山 39.9 1997-07-05\n",
            "\n",
            "大阪府 豊中 39.9 1994-08-08\n",
            "\n",
            "山梨県 大月 39.9 1990-07-19\n",
            "\n",
            "山形県 鶴岡 39.9 1978-08-03\n",
            "\n",
            "愛知県 名古屋 39.9 1942-08-02\n",
            "\n",
            "高知県 江川崎 41 2013-08-12\n",
            "埼玉県 熊谷 40.9 2007-08-16\n",
            "岐阜県 多治見 40.9 2007-08-16\n",
            "山形県 山形 40.8 1933-07-25\n",
            "山梨県 甲府 40.7 2013-08-10\n",
            "和歌山県 かつらぎ 40.6 1994-08-08\n",
            "静岡県 天竜 40.6 1994-08-04\n",
            "山梨県 勝沼 40.5 2013-08-10\n",
            "埼玉県 越谷 40.4 2007-08-16\n",
            "群馬県 館林 40.3 2007-08-16\n",
            "群馬県 上里見 40.3 1998-07-04\n",
            "愛知県 愛西 40.3 1994-08-05\n",
            "千葉県 牛久 40.2 2004-07-20\n",
            "静岡県 佐久間 40.2 2001-07-24\n",
            "愛媛県 宇和島 40.2 1927-07-22\n",
            "山形県 酒田 40.1 1978-08-03\n",
            "岐阜県 美濃 40 2007-08-16\n",
            "群馬県 前橋 40 2001-07-24\n",
            "千葉県 茂原 39.9 2013-08-11\n",
            "埼玉県 鳩山 39.9 1997-07-05\n",
            "大阪府 豊中 39.9 1994-08-08\n",
            "山梨県 大月 39.9 1990-07-19\n",
            "山形県 鶴岡 39.9 1978-08-03\n",
            "愛知県 名古屋 39.9 1942-08-02\n"
          ],
          "name": "stdout"
        }
      ]
    },
    {
      "cell_type": "markdown",
      "metadata": {
        "id": "oWVl7K3sOf0U",
        "colab_type": "text"
      },
      "source": [
        "#12. 1列目をcol1.txtに，2列目をcol2.txtに保存\n",
        "各行の1列目だけを抜き出したものをcol1.txtに，2列目だけを抜き出したものをcol2.txtとしてファイルに保存せよ．確認にはcutコマンドを用いよ．"
      ]
    },
    {
      "cell_type": "code",
      "metadata": {
        "id": "YAWLMDi1zqwy",
        "colab_type": "code",
        "outputId": "125133a6-dc8c-40a2-904c-8a3d81053f06",
        "colab": {
          "base_uri": "https://localhost:8080/",
          "height": 2499
        }
      },
      "source": [
        "file1 = open('col1.txt', 'w')\n",
        "file2 = open('col2.txt', 'w')\n",
        "for line in open('hightemp.txt'):\n",
        "  lines = line.split('\\t')\n",
        "  file1.write(lines[0]+'\\n')\n",
        "  file2.write(lines[1]+'\\n')\n",
        "file1.close()\n",
        "file2.close()\n",
        "print('col1.txt')\n",
        "for line in open('col1.txt'):\n",
        "  print(line)\n",
        "\n",
        "print('col2.txt')\n",
        "for line in open('col2.txt'):\n",
        "  print(line)\n",
        "\n",
        "!cut -f 1 hightemp.txt\n",
        "!cut -f 2 hightemp.txt"
      ],
      "execution_count": 0,
      "outputs": [
        {
          "output_type": "stream",
          "text": [
            "col1.txt\n",
            "高知県\n",
            "\n",
            "埼玉県\n",
            "\n",
            "岐阜県\n",
            "\n",
            "山形県\n",
            "\n",
            "山梨県\n",
            "\n",
            "和歌山県\n",
            "\n",
            "静岡県\n",
            "\n",
            "山梨県\n",
            "\n",
            "埼玉県\n",
            "\n",
            "群馬県\n",
            "\n",
            "群馬県\n",
            "\n",
            "愛知県\n",
            "\n",
            "千葉県\n",
            "\n",
            "静岡県\n",
            "\n",
            "愛媛県\n",
            "\n",
            "山形県\n",
            "\n",
            "岐阜県\n",
            "\n",
            "群馬県\n",
            "\n",
            "千葉県\n",
            "\n",
            "埼玉県\n",
            "\n",
            "大阪府\n",
            "\n",
            "山梨県\n",
            "\n",
            "山形県\n",
            "\n",
            "愛知県\n",
            "\n",
            "col2.txt\n",
            "江川崎\n",
            "\n",
            "熊谷\n",
            "\n",
            "多治見\n",
            "\n",
            "山形\n",
            "\n",
            "甲府\n",
            "\n",
            "かつらぎ\n",
            "\n",
            "天竜\n",
            "\n",
            "勝沼\n",
            "\n",
            "越谷\n",
            "\n",
            "館林\n",
            "\n",
            "上里見\n",
            "\n",
            "愛西\n",
            "\n",
            "牛久\n",
            "\n",
            "佐久間\n",
            "\n",
            "宇和島\n",
            "\n",
            "酒田\n",
            "\n",
            "美濃\n",
            "\n",
            "前橋\n",
            "\n",
            "茂原\n",
            "\n",
            "鳩山\n",
            "\n",
            "豊中\n",
            "\n",
            "大月\n",
            "\n",
            "鶴岡\n",
            "\n",
            "名古屋\n",
            "\n",
            "高知県\n",
            "埼玉県\n",
            "岐阜県\n",
            "山形県\n",
            "山梨県\n",
            "和歌山県\n",
            "静岡県\n",
            "山梨県\n",
            "埼玉県\n",
            "群馬県\n",
            "群馬県\n",
            "愛知県\n",
            "千葉県\n",
            "静岡県\n",
            "愛媛県\n",
            "山形県\n",
            "岐阜県\n",
            "群馬県\n",
            "千葉県\n",
            "埼玉県\n",
            "大阪府\n",
            "山梨県\n",
            "山形県\n",
            "愛知県\n",
            "江川崎\n",
            "熊谷\n",
            "多治見\n",
            "山形\n",
            "甲府\n",
            "かつらぎ\n",
            "天竜\n",
            "勝沼\n",
            "越谷\n",
            "館林\n",
            "上里見\n",
            "愛西\n",
            "牛久\n",
            "佐久間\n",
            "宇和島\n",
            "酒田\n",
            "美濃\n",
            "前橋\n",
            "茂原\n",
            "鳩山\n",
            "豊中\n",
            "大月\n",
            "鶴岡\n",
            "名古屋\n"
          ],
          "name": "stdout"
        }
      ]
    },
    {
      "cell_type": "markdown",
      "metadata": {
        "id": "bJg9joDAWSxS",
        "colab_type": "text"
      },
      "source": [
        "# 14. 先頭からN行を出力\n",
        "自然数Nをコマンドライン引数などの手段で受け取り，入力のうち先頭のN行だけを表示せよ．確認にはheadコマンドを用いよ．"
      ]
    },
    {
      "cell_type": "code",
      "metadata": {
        "id": "DwXFqKNrWYZ3",
        "colab_type": "code",
        "outputId": "0997038d-3b76-4e00-a2e3-3554f2c9b7bd",
        "colab": {
          "base_uri": "https://localhost:8080/",
          "height": 527
        }
      },
      "source": [
        "N = 10\n",
        "for i, line in enumerate(open('hightemp.txt')):\n",
        "  print(line)\n",
        "  if i == N-1:\n",
        "    break\n",
        "\n",
        "!head -n 10 hightemp.txt"
      ],
      "execution_count": 0,
      "outputs": [
        {
          "output_type": "stream",
          "text": [
            "高知県\t江川崎\t41\t2013-08-12\n",
            "\n",
            "埼玉県\t熊谷\t40.9\t2007-08-16\n",
            "\n",
            "岐阜県\t多治見\t40.9\t2007-08-16\n",
            "\n",
            "山形県\t山形\t40.8\t1933-07-25\n",
            "\n",
            "山梨県\t甲府\t40.7\t2013-08-10\n",
            "\n",
            "和歌山県\tかつらぎ\t40.6\t1994-08-08\n",
            "\n",
            "静岡県\t天竜\t40.6\t1994-08-04\n",
            "\n",
            "山梨県\t勝沼\t40.5\t2013-08-10\n",
            "\n",
            "埼玉県\t越谷\t40.4\t2007-08-16\n",
            "\n",
            "群馬県\t館林\t40.3\t2007-08-16\n",
            "\n",
            "高知県\t江川崎\t41\t2013-08-12\n",
            "埼玉県\t熊谷\t40.9\t2007-08-16\n",
            "岐阜県\t多治見\t40.9\t2007-08-16\n",
            "山形県\t山形\t40.8\t1933-07-25\n",
            "山梨県\t甲府\t40.7\t2013-08-10\n",
            "和歌山県\tかつらぎ\t40.6\t1994-08-08\n",
            "静岡県\t天竜\t40.6\t1994-08-04\n",
            "山梨県\t勝沼\t40.5\t2013-08-10\n",
            "埼玉県\t越谷\t40.4\t2007-08-16\n",
            "群馬県\t館林\t40.3\t2007-08-16\n"
          ],
          "name": "stdout"
        }
      ]
    },
    {
      "cell_type": "markdown",
      "metadata": {
        "id": "LT0-W1hYYg7-",
        "colab_type": "text"
      },
      "source": [
        "# 15. 末尾のN行を出力\n",
        "自然数Nをコマンドライン引数などの手段で受け取り，入力のうち末尾のN行だけを表示せよ．確認にはtailコマンドを用いよ．"
      ]
    },
    {
      "cell_type": "code",
      "metadata": {
        "id": "19fR8pTNQB2N",
        "colab_type": "code",
        "outputId": "742d8b05-cdd4-4b3c-89d0-3f0910e3fcdb",
        "colab": {
          "base_uri": "https://localhost:8080/",
          "height": 170
        }
      },
      "source": [
        "N = 3\n",
        "num_lines = sum(1 for line in open('hightemp.txt'))\n",
        "for i, line in enumerate(open('hightemp.txt')):\n",
        "  if num_lines-3 <= i:\n",
        "    print(line)\n",
        "    \n",
        "!tail -n 3 hightemp.txt"
      ],
      "execution_count": 0,
      "outputs": [
        {
          "output_type": "stream",
          "text": [
            "山梨県\t大月\t39.9\t1990-07-19\n",
            "\n",
            "山形県\t鶴岡\t39.9\t1978-08-03\n",
            "\n",
            "愛知県\t名古屋\t39.9\t1942-08-02\n",
            "\n",
            "山梨県\t大月\t39.9\t1990-07-19\n",
            "山形県\t鶴岡\t39.9\t1978-08-03\n",
            "愛知県\t名古屋\t39.9\t1942-08-02\n"
          ],
          "name": "stdout"
        }
      ]
    },
    {
      "cell_type": "markdown",
      "metadata": {
        "id": "YpNYeI0taIlj",
        "colab_type": "text"
      },
      "source": [
        "# 16. ファイルをN分割する\n",
        "自然数Nをコマンドライン引数などの手段で受け取り，入力のファイルを行単位でN分割せよ．同様の処理をsplitコマンドで実現せよ．"
      ]
    },
    {
      "cell_type": "code",
      "metadata": {
        "id": "tKsn43T7ZGjY",
        "colab_type": "code",
        "outputId": "e57ed751-91fa-4ad3-948a-b15391ac0a24",
        "colab": {
          "base_uri": "https://localhost:8080/",
          "height": 901
        }
      },
      "source": [
        "N = 3\n",
        "num_lines = sum(1 for line in open('hightemp.txt'))\n",
        "num = num_lines / N\n",
        "for j in range(N):\n",
        "  file = open('file' + str(j) + '.txt', 'w')\n",
        "  for i, line in enumerate(open('hightemp.txt')):\n",
        "    if j*num <= i < (j+1)*num:\n",
        "      file.write(line)\n",
        "  file.close()\n",
        "!ls\n",
        "!head -n 10 file0.txt\n",
        "!head -n 10 file1.txt\n",
        "!head -n 10 file2.txt\n",
        "!split -l 8 hightemp.txt\n",
        "!ls\n",
        "!head -n 10 xaa\n",
        "!head -n 10 xac\n",
        "!head -n 10 xab"
      ],
      "execution_count": 0,
      "outputs": [
        {
          "output_type": "stream",
          "text": [
            "col0.txt  col2.txt   file1.txt\thightemp.txt  xaa  xac\n",
            "col1.txt  file0.txt  file2.txt\tsample_data   xab\n",
            "高知県\t江川崎\t41\t2013-08-12\n",
            "埼玉県\t熊谷\t40.9\t2007-08-16\n",
            "岐阜県\t多治見\t40.9\t2007-08-16\n",
            "山形県\t山形\t40.8\t1933-07-25\n",
            "山梨県\t甲府\t40.7\t2013-08-10\n",
            "和歌山県\tかつらぎ\t40.6\t1994-08-08\n",
            "静岡県\t天竜\t40.6\t1994-08-04\n",
            "山梨県\t勝沼\t40.5\t2013-08-10\n",
            "埼玉県\t越谷\t40.4\t2007-08-16\n",
            "群馬県\t館林\t40.3\t2007-08-16\n",
            "群馬県\t上里見\t40.3\t1998-07-04\n",
            "愛知県\t愛西\t40.3\t1994-08-05\n",
            "千葉県\t牛久\t40.2\t2004-07-20\n",
            "静岡県\t佐久間\t40.2\t2001-07-24\n",
            "愛媛県\t宇和島\t40.2\t1927-07-22\n",
            "山形県\t酒田\t40.1\t1978-08-03\n",
            "岐阜県\t美濃\t40\t2007-08-16\n",
            "群馬県\t前橋\t40\t2001-07-24\n",
            "千葉県\t茂原\t39.9\t2013-08-11\n",
            "埼玉県\t鳩山\t39.9\t1997-07-05\n",
            "大阪府\t豊中\t39.9\t1994-08-08\n",
            "山梨県\t大月\t39.9\t1990-07-19\n",
            "山形県\t鶴岡\t39.9\t1978-08-03\n",
            "愛知県\t名古屋\t39.9\t1942-08-02\n",
            "col0.txt  col2.txt   file1.txt\thightemp.txt  xaa  xac\n",
            "col1.txt  file0.txt  file2.txt\tsample_data   xab\n",
            "高知県\t江川崎\t41\t2013-08-12\n",
            "埼玉県\t熊谷\t40.9\t2007-08-16\n",
            "岐阜県\t多治見\t40.9\t2007-08-16\n",
            "山形県\t山形\t40.8\t1933-07-25\n",
            "山梨県\t甲府\t40.7\t2013-08-10\n",
            "和歌山県\tかつらぎ\t40.6\t1994-08-08\n",
            "静岡県\t天竜\t40.6\t1994-08-04\n",
            "山梨県\t勝沼\t40.5\t2013-08-10\n",
            "岐阜県\t美濃\t40\t2007-08-16\n",
            "群馬県\t前橋\t40\t2001-07-24\n",
            "千葉県\t茂原\t39.9\t2013-08-11\n",
            "埼玉県\t鳩山\t39.9\t1997-07-05\n",
            "大阪府\t豊中\t39.9\t1994-08-08\n",
            "山梨県\t大月\t39.9\t1990-07-19\n",
            "山形県\t鶴岡\t39.9\t1978-08-03\n",
            "愛知県\t名古屋\t39.9\t1942-08-02\n",
            "埼玉県\t越谷\t40.4\t2007-08-16\n",
            "群馬県\t館林\t40.3\t2007-08-16\n",
            "群馬県\t上里見\t40.3\t1998-07-04\n",
            "愛知県\t愛西\t40.3\t1994-08-05\n",
            "千葉県\t牛久\t40.2\t2004-07-20\n",
            "静岡県\t佐久間\t40.2\t2001-07-24\n",
            "愛媛県\t宇和島\t40.2\t1927-07-22\n",
            "山形県\t酒田\t40.1\t1978-08-03\n"
          ],
          "name": "stdout"
        }
      ]
    },
    {
      "cell_type": "markdown",
      "metadata": {
        "id": "jwJ_ChH8hJIM",
        "colab_type": "text"
      },
      "source": [
        "#17. １列目の文字列の異なり\n",
        "1列目の文字列の種類（異なる文字列の集合）を求めよ．確認にはsort, uniqコマンドを用いよ．"
      ]
    },
    {
      "cell_type": "code",
      "metadata": {
        "id": "T1eTlGZMb0GV",
        "colab_type": "code",
        "outputId": "fbe6e8f3-3c82-4ddf-ec59-0fbc12d95b2b",
        "colab": {
          "base_uri": "https://localhost:8080/",
          "height": 243
        }
      },
      "source": [
        "types_of_words = set()\n",
        "for line in open('hightemp.txt'):\n",
        "  lines = line.split('\\t')\n",
        "  types_of_words.add(lines[0])\n",
        "print(types_of_words)\n",
        "\n",
        "!cut --fields=1 hightemp.txt | sort | uniq"
      ],
      "execution_count": 0,
      "outputs": [
        {
          "output_type": "stream",
          "text": [
            "{'群馬県', '千葉県', '静岡県', '埼玉県', '愛媛県', '高知県', '岐阜県', '愛知県', '山梨県', '大阪府', '和歌山県', '山形県'}\n",
            "千葉県\n",
            "和歌山県\n",
            "埼玉県\n",
            "大阪府\n",
            "山形県\n",
            "山梨県\n",
            "岐阜県\n",
            "愛媛県\n",
            "愛知県\n",
            "群馬県\n",
            "静岡県\n",
            "高知県\n"
          ],
          "name": "stdout"
        }
      ]
    },
    {
      "cell_type": "markdown",
      "metadata": {
        "id": "ycar_vsa2wxB",
        "colab_type": "text"
      },
      "source": [
        "#18. 各行を3コラム目の数値の降順にソート\n",
        "\n",
        "各行を3コラム目の数値の逆順で整列せよ（注意: 各行の内容は変更せずに並び替えよ）．確認にはsortコマンドを用いよ（この問題はコマンドで実行した時の結果と合わなくてもよい）．\n"
      ]
    },
    {
      "cell_type": "code",
      "metadata": {
        "id": "JQAHeLK_1uyb",
        "colab_type": "code",
        "colab": {
          "base_uri": "https://localhost:8080/",
          "height": 850
        },
        "outputId": "cdf987e1-8444-42ca-e2a4-46be4a41eb6b"
      },
      "source": [
        "file = 'hightemp.txt'\n",
        "lines = open(file).readlines()\n",
        "lines.sort(key=lambda line: float(line.split('\\t')[2]), reverse=True)\n",
        "\n",
        "for line in lines:\n",
        "    print(line, end='')\n",
        "!echo \"--------------\"\n",
        "!sort hightemp.txt --key=3,3 --numeric-sort --reverse"
      ],
      "execution_count": 7,
      "outputs": [
        {
          "output_type": "stream",
          "text": [
            "高知県\t江川崎\t41\t2013-08-12\n",
            "埼玉県\t熊谷\t40.9\t2007-08-16\n",
            "岐阜県\t多治見\t40.9\t2007-08-16\n",
            "山形県\t山形\t40.8\t1933-07-25\n",
            "山梨県\t甲府\t40.7\t2013-08-10\n",
            "和歌山県\tかつらぎ\t40.6\t1994-08-08\n",
            "静岡県\t天竜\t40.6\t1994-08-04\n",
            "山梨県\t勝沼\t40.5\t2013-08-10\n",
            "埼玉県\t越谷\t40.4\t2007-08-16\n",
            "群馬県\t館林\t40.3\t2007-08-16\n",
            "群馬県\t上里見\t40.3\t1998-07-04\n",
            "愛知県\t愛西\t40.3\t1994-08-05\n",
            "千葉県\t牛久\t40.2\t2004-07-20\n",
            "静岡県\t佐久間\t40.2\t2001-07-24\n",
            "愛媛県\t宇和島\t40.2\t1927-07-22\n",
            "山形県\t酒田\t40.1\t1978-08-03\n",
            "岐阜県\t美濃\t40\t2007-08-16\n",
            "群馬県\t前橋\t40\t2001-07-24\n",
            "千葉県\t茂原\t39.9\t2013-08-11\n",
            "埼玉県\t鳩山\t39.9\t1997-07-05\n",
            "大阪府\t豊中\t39.9\t1994-08-08\n",
            "山梨県\t大月\t39.9\t1990-07-19\n",
            "山形県\t鶴岡\t39.9\t1978-08-03\n",
            "愛知県\t名古屋\t39.9\t1942-08-02\n",
            "--------------\n",
            "高知県\t江川崎\t41\t2013-08-12\n",
            "岐阜県\t多治見\t40.9\t2007-08-16\n",
            "埼玉県\t熊谷\t40.9\t2007-08-16\n",
            "山形県\t山形\t40.8\t1933-07-25\n",
            "山梨県\t甲府\t40.7\t2013-08-10\n",
            "静岡県\t天竜\t40.6\t1994-08-04\n",
            "和歌山県\tかつらぎ\t40.6\t1994-08-08\n",
            "山梨県\t勝沼\t40.5\t2013-08-10\n",
            "埼玉県\t越谷\t40.4\t2007-08-16\n",
            "群馬県\t館林\t40.3\t2007-08-16\n",
            "群馬県\t上里見\t40.3\t1998-07-04\n",
            "愛知県\t愛西\t40.3\t1994-08-05\n",
            "静岡県\t佐久間\t40.2\t2001-07-24\n",
            "愛媛県\t宇和島\t40.2\t1927-07-22\n",
            "千葉県\t牛久\t40.2\t2004-07-20\n",
            "山形県\t酒田\t40.1\t1978-08-03\n",
            "群馬県\t前橋\t40\t2001-07-24\n",
            "岐阜県\t美濃\t40\t2007-08-16\n",
            "愛知県\t名古屋\t39.9\t1942-08-02\n",
            "山梨県\t大月\t39.9\t1990-07-19\n",
            "山形県\t鶴岡\t39.9\t1978-08-03\n",
            "大阪府\t豊中\t39.9\t1994-08-08\n",
            "埼玉県\t鳩山\t39.9\t1997-07-05\n",
            "千葉県\t茂原\t39.9\t2013-08-11\n"
          ],
          "name": "stdout"
        }
      ]
    },
    {
      "cell_type": "markdown",
      "metadata": {
        "id": "_ylJKbeIucFR",
        "colab_type": "text"
      },
      "source": [
        "#19. 各行の1コラム目の文字列の出現頻度を求め，出現頻度の高い順に並べる\n",
        "各行の1列目の文字列の出現頻度を求め，その高い順に並べて表示せよ．確認にはcut, uniq, sortコマンドを用いよ．"
      ]
    },
    {
      "cell_type": "code",
      "metadata": {
        "id": "fOhw3ZlvsF85",
        "colab_type": "code",
        "colab": {
          "base_uri": "https://localhost:8080/",
          "height": 221
        },
        "outputId": "a488501a-146d-4315-efca-94538d13936e"
      },
      "source": [
        "from collections import Counter\n",
        "words = []\n",
        "for line in open('hightemp.txt'):\n",
        "  lines = line.split('\\t')\n",
        "  words.append(lines[0])\n",
        "\n",
        "counter = Counter(words)\n",
        "for word, cnt in counter.most_common():\n",
        "    print(word, cnt)"
      ],
      "execution_count": 11,
      "outputs": [
        {
          "output_type": "stream",
          "text": [
            "埼玉県 3\n",
            "山形県 3\n",
            "山梨県 3\n",
            "群馬県 3\n",
            "岐阜県 2\n",
            "静岡県 2\n",
            "愛知県 2\n",
            "千葉県 2\n",
            "高知県 1\n",
            "和歌山県 1\n",
            "愛媛県 1\n",
            "大阪府 1\n"
          ],
          "name": "stdout"
        }
      ]
    },
    {
      "cell_type": "code",
      "metadata": {
        "id": "HjXkv8PIwkYv",
        "colab_type": "code",
        "colab": {}
      },
      "source": [
        ""
      ],
      "execution_count": 0,
      "outputs": []
    }
  ]
}