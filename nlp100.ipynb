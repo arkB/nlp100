{
  "nbformat": 4,
  "nbformat_minor": 0,
  "metadata": {
    "colab": {
      "name": "nlp100.ipynb",
      "version": "0.3.2",
      "provenance": [],
      "include_colab_link": true
    },
    "kernelspec": {
      "name": "python3",
      "display_name": "Python 3"
    }
  },
  "cells": [
    {
      "cell_type": "markdown",
      "metadata": {
        "id": "view-in-github",
        "colab_type": "text"
      },
      "source": [
        "<a href=\"https://colab.research.google.com/github/arkB/nlp100/blob/master/nlp100.ipynb\" target=\"_parent\"><img src=\"https://colab.research.google.com/assets/colab-badge.svg\" alt=\"Open In Colab\"/></a>"
      ]
    },
    {
      "metadata": {
        "id": "JgUApB6LDnnq",
        "colab_type": "text"
      },
      "cell_type": "markdown",
      "source": [
        "# 00. 文字列の逆順\n",
        "文字列\"stressed\"の文字を逆に（末尾から先頭に向かって）並べた文字列を得よ．"
      ]
    },
    {
      "metadata": {
        "id": "MHlTCR0eC8eK",
        "colab_type": "code",
        "outputId": "8c7422dc-1f7b-451c-c9c1-ce83deb8947d",
        "colab": {
          "base_uri": "https://localhost:8080/",
          "height": 34
        }
      },
      "cell_type": "code",
      "source": [
        "str = \"stressed\"\n",
        "str[::-1]"
      ],
      "execution_count": 0,
      "outputs": [
        {
          "output_type": "execute_result",
          "data": {
            "text/plain": [
              "'desserts'"
            ]
          },
          "metadata": {
            "tags": []
          },
          "execution_count": 1
        }
      ]
    },
    {
      "metadata": {
        "id": "36TxV9VcDyQ5",
        "colab_type": "text"
      },
      "cell_type": "markdown",
      "source": [
        "# 01. 「パタトクカシーー」\n",
        "「パタトクカシーー」という文字列の1,3,5,7文字目を取り出して連結した文字列を得よ．"
      ]
    },
    {
      "metadata": {
        "id": "YaALsDrkDepd",
        "colab_type": "code",
        "outputId": "087e0c43-312a-41d9-fe19-f0f13c077d49",
        "colab": {
          "base_uri": "https://localhost:8080/",
          "height": 34
        }
      },
      "cell_type": "code",
      "source": [
        "str = 'パタトクカシーー'\n",
        "tmp = ''\n",
        "for i in range(0, 8, 2):\n",
        "  tmp += str[i:i+1]\n",
        "print(tmp)"
      ],
      "execution_count": 0,
      "outputs": [
        {
          "output_type": "stream",
          "text": [
            "パトカー\n"
          ],
          "name": "stdout"
        }
      ]
    },
    {
      "metadata": {
        "id": "3TJUt6XfFc5J",
        "colab_type": "text"
      },
      "cell_type": "markdown",
      "source": [
        "# 03. 円周率\n",
        "\"Now I need a drink, alcoholic of course, after the heavy lectures involving quantum mechanics.\"という文を単語に分解し，各単語の（アルファベットの）文字数を先頭から出現順に並べたリストを作成せよ．"
      ]
    },
    {
      "metadata": {
        "id": "hpMd-UPxE4mv",
        "colab_type": "code",
        "outputId": "158c2494-f80e-48e4-cb0c-18ea6d922419",
        "colab": {
          "base_uri": "https://localhost:8080/",
          "height": 34
        }
      },
      "cell_type": "code",
      "source": [
        "str = 'Now I need a drink, alcoholic of course, after the heavy lectures involving quantum mechanics.'\n",
        "str_list_tmp = str.split(' ')\n",
        "str_list = []\n",
        "for str in str_list_tmp:\n",
        "  str_list.append(len(str.strip(',.')))\n",
        "print(str_list)"
      ],
      "execution_count": 0,
      "outputs": [
        {
          "output_type": "stream",
          "text": [
            "[3, 1, 4, 1, 5, 9, 2, 6, 5, 3, 5, 8, 9, 7, 9]\n"
          ],
          "name": "stdout"
        }
      ]
    },
    {
      "metadata": {
        "id": "ZFx182qeLbrW",
        "colab_type": "text"
      },
      "cell_type": "markdown",
      "source": [
        "# 04. 元素記号\n",
        "\"Hi He Lied Because Boron Could Not Oxidize Fluorine. New Nations Might Also Sign Peace Security Clause. Arthur King Can.\"という文を単語に分解し，1, 5, 6, 7, 8, 9, 15, 16, 19番目の単語は先頭の1文字，それ以外の単語は先頭に2文字を取り出し，取り出した文字列から単語の位置（先頭から何番目の単語か）への連想配列（辞書型もしくはマップ型）を作成せよ．"
      ]
    },
    {
      "metadata": {
        "id": "EMpts45qHRP2",
        "colab_type": "code",
        "outputId": "f053d36e-d43c-4afc-8680-3b512011af8d",
        "colab": {
          "base_uri": "https://localhost:8080/",
          "height": 34
        }
      },
      "cell_type": "code",
      "source": [
        "from collections import OrderedDict\n",
        "od = OrderedDict()\n",
        "str = \"Hi He Lied Because Boron Could Not Oxidize Fluorine. New Nations Might Also Sign Peace Security Clause. Arthur King Can.\"\n",
        "str_list = str.split(' ')\n",
        "for index, word in enumerate(str_list):\n",
        "  if index+1 in [1, 5, 6, 7, 8, 9, 15, 16, 19]:\n",
        "    od[word[0]] = index+1\n",
        "  else:\n",
        "    od[word[0:2]] = index+1\n",
        "print(od)"
      ],
      "execution_count": 30,
      "outputs": [
        {
          "output_type": "stream",
          "text": [
            "OrderedDict([('H', 1), ('He', 2), ('Li', 3), ('Be', 4), ('B', 5), ('C', 6), ('N', 7), ('O', 8), ('F', 9), ('Ne', 10), ('Na', 11), ('Mi', 12), ('Al', 13), ('Si', 14), ('P', 15), ('S', 16), ('Cl', 17), ('Ar', 18), ('K', 19), ('Ca', 20)])\n"
          ],
          "name": "stdout"
        }
      ]
    },
    {
      "metadata": {
        "id": "oHM93i6zECsi",
        "colab_type": "text"
      },
      "cell_type": "markdown",
      "source": [
        "# 05. n-gram\n",
        "与えられたシーケンス（文字列やリストなど）からn-gramを作る関数を作成せよ．この関数を用い，\"I am an NLPer\"という文から単語bi-gram，文字bi-gramを得よ．"
      ]
    },
    {
      "metadata": {
        "id": "vjsWm8BUVjaW",
        "colab_type": "code",
        "colab": {
          "base_uri": "https://localhost:8080/",
          "height": 34
        },
        "outputId": "62d3b3e0-4154-44c6-ce76-931e96f79cbc"
      },
      "cell_type": "code",
      "source": [
        "sentence = \"I am an NLPer\"\n",
        "n = 4\n",
        "\n",
        "def word_n_gram(sentence, n):\n",
        "    words = sentence.split()\n",
        "    result = []\n",
        "    for i, c in enumerate(words):\n",
        "        if len(words) < i + n:\n",
        "            return result\n",
        "        result.append(words[i: i+n])\n",
        "        \n",
        "a = word_n_gram(sentence, n)\n",
        "print(a)"
      ],
      "execution_count": 9,
      "outputs": [
        {
          "output_type": "stream",
          "text": [
            "[['I', 'am', 'an', 'NLPer']]\n"
          ],
          "name": "stdout"
        }
      ]
    },
    {
      "metadata": {
        "id": "ugkLFqT5nZLC",
        "colab_type": "code",
        "colab": {
          "base_uri": "https://localhost:8080/",
          "height": 34
        },
        "outputId": "6c4b3aa1-789f-4068-ae43-896efa8e764f"
      },
      "cell_type": "code",
      "source": [
        "sentence = \"I am an NLPer\"\n",
        "n = 4\n",
        "\n",
        "def char_n_gram(sentence, n):\n",
        "    result = []\n",
        "    for i in range(len(sentence)):\n",
        "        if i + n > len(sentence):\n",
        "            return result\n",
        "        result.append(sentence[i: i+n])\n",
        "\n",
        "a = char_n_gram(sentence, n)\n",
        "print(a)"
      ],
      "execution_count": 12,
      "outputs": [
        {
          "output_type": "stream",
          "text": [
            "['I am', ' am ', 'am a', 'm an', ' an ', 'an N', 'n NL', ' NLP', 'NLPe', 'LPer']\n"
          ],
          "name": "stdout"
        }
      ]
    },
    {
      "metadata": {
        "id": "cksfffLGsXxt",
        "colab_type": "text"
      },
      "cell_type": "markdown",
      "source": [
        "# 06. 集合\n",
        "\"paraparaparadise\"と\"paragraph\"に含まれる文字bi-gramの集合を，それぞれ, XとYとして求め，XとYの和集合，積集合，差集合を求めよ．さらに，'se'というbi-gramがXおよびYに含まれるかどうかを調べよ．"
      ]
    },
    {
      "metadata": {
        "id": "BRN9mWp0sC1r",
        "colab_type": "code",
        "colab": {
          "base_uri": "https://localhost:8080/",
          "height": 119
        },
        "outputId": "82953d9c-4526-4298-9946-bc06e5cb7641"
      },
      "cell_type": "code",
      "source": [
        "sentence_X = \"paraparaparadise\"\n",
        "sentence_Y = \"paragraph\"\n",
        "n = 2\n",
        "\n",
        "X = char_n_gram(sentence_X, n)\n",
        "Y = char_n_gram(sentence_Y, n)\n",
        "print(X)\n",
        "print(Y)\n",
        "\n",
        "X_or_Y = set(X+Y)\n",
        "print(X_or_Y)\n",
        "\n",
        "X_and_Y = set(X) & set(Y)\n",
        "print(X_and_Y)\n",
        "\n",
        "X_diff_Y = set(X) - set(Y)\n",
        "print(X_diff_Y)\n",
        "\n",
        "Y_diff_X = set(Y) - set(X)\n",
        "print(Y_diff_X)"
      ],
      "execution_count": 23,
      "outputs": [
        {
          "output_type": "stream",
          "text": [
            "['pa', 'ar', 'ra', 'ap', 'pa', 'ar', 'ra', 'ap', 'pa', 'ar', 'ra', 'ad', 'di', 'is', 'se']\n",
            "['pa', 'ar', 'ra', 'ag', 'gr', 'ra', 'ap', 'ph']\n",
            "{'ad', 'ap', 'ag', 'ra', 'di', 'gr', 'ar', 'is', 'pa', 'se', 'ph'}\n",
            "{'ar', 'pa', 'ap', 'ra'}\n",
            "{'ad', 'ag', 'gr', 'di', 'is', 'se', 'ph'}\n",
            "{'ph', 'ag', 'gr'}\n"
          ],
          "name": "stdout"
        }
      ]
    },
    {
      "metadata": {
        "id": "fbr_bHyavjbe",
        "colab_type": "text"
      },
      "cell_type": "markdown",
      "source": [
        "# 07. テンプレートによる文生成\n",
        "引数x, y, zを受け取り「x時のyはz」という文字列を返す関数を実装せよ．さらに，x=12, y=\"気温\", z=22.4として，実行結果を確認せよ．"
      ]
    },
    {
      "metadata": {
        "id": "dUvulKvPtEeQ",
        "colab_type": "code",
        "colab": {
          "base_uri": "https://localhost:8080/",
          "height": 34
        },
        "outputId": "7d6995d2-c227-4240-fda2-86716d16eb38"
      },
      "cell_type": "code",
      "source": [
        "x = 12\n",
        "y = \"気温\"\n",
        "z = 22.4\n",
        "\n",
        "def generate_sentence(x, y, z):\n",
        "  result = str(x) + '時の' + y + 'は' + str(z)\n",
        "  return result\n",
        "\n",
        "a = generate_sentence(x, y, z)\n",
        "print(a)"
      ],
      "execution_count": 1,
      "outputs": [
        {
          "output_type": "stream",
          "text": [
            "12時の気温は22.4\n"
          ],
          "name": "stdout"
        }
      ]
    },
    {
      "metadata": {
        "id": "6hEDnZnWzDnb",
        "colab_type": "code",
        "colab": {}
      },
      "cell_type": "code",
      "source": [
        ""
      ],
      "execution_count": 0,
      "outputs": []
    }
  ]
}